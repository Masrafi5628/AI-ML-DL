{
 "cells": [
  {
   "cell_type": "code",
   "execution_count": null,
   "metadata": {},
   "outputs": [
    {
     "ename": "",
     "evalue": "",
     "output_type": "error",
     "traceback": [
      "\u001b[1;31mFailed to start the Kernel. \n",
      "\u001b[1;31mUnable to start Kernel 'Python 3.10.12' due to a connection timeout. \n",
      "\u001b[1;31mView Jupyter <a href='command:jupyter.viewOutput'>log</a> for further details."
     ]
    }
   ],
   "source": [
    "import tensorflow as tf\n",
    "from tensorflow.keras import layers, Model, losses, optimizers\n",
    "import numpy as np\n",
    "from PIL import Image\n"
   ]
  },
  {
   "cell_type": "code",
   "execution_count": null,
   "metadata": {},
   "outputs": [
    {
     "ename": "",
     "evalue": "",
     "output_type": "error",
     "traceback": [
      "\u001b[1;31mFailed to start the Kernel. \n",
      "\u001b[1;31mUnable to start Kernel 'Python 3.10.12' due to a connection timeout. \n",
      "\u001b[1;31mView Jupyter <a href='command:jupyter.viewOutput'>log</a> for further details."
     ]
    }
   ],
   "source": [
    "\n",
    "# Define the generator model\n",
    "def generator_model():\n",
    "    inputs = layers.Input(shape=(height, width, channels))\n",
    "    x = layers.Conv2D(64, kernel_size=3, strides=1, padding='same', activation='relu')(inputs)\n",
    "    # Add more convolutional layers\n",
    "    outputs = layers.Conv2D(channels, kernel_size=3, strides=1, padding='same', activation='tanh')(x)\n",
    "    return Model(inputs, outputs)\n",
    "\n",
    "# Define the discriminator model\n",
    "def discriminator_model():\n",
    "    inputs = layers.Input(shape=(height, width, channels))\n",
    "    x = layers.Conv2D(64, kernel_size=3, strides=1, padding='same', activation='relu')(inputs)\n",
    "    # Add more convolutional layers\n",
    "    outputs = layers.Conv2D(1, kernel_size=3, strides=1, padding='same', activation='sigmoid')(x)\n",
    "    return Model(inputs, outputs)\n"
   ]
  },
  {
   "cell_type": "code",
   "execution_count": null,
   "metadata": {},
   "outputs": [
    {
     "ename": "",
     "evalue": "",
     "output_type": "error",
     "traceback": [
      "\u001b[1;31mFailed to start the Kernel. \n",
      "\u001b[1;31mUnable to start Kernel 'Python 3.10.12' due to a connection timeout. \n",
      "\u001b[1;31mView Jupyter <a href='command:jupyter.viewOutput'>log</a> for further details."
     ]
    }
   ],
   "source": [
    "# Define the generator loss\n",
    "def generator_loss(fake_output, target_output, generated_output):\n",
    "    gen_loss = losses.BinaryCrossentropy()(fake_output, tf.ones_like(fake_output))  # Adversarial loss\n",
    "    content_loss = losses.MeanAbsoluteError()(target_output, generated_output)  # Content loss\n",
    "    return gen_loss + content_loss\n",
    "\n",
    "# Define the discriminator loss\n",
    "def discriminator_loss(real_output, fake_output):\n",
    "    real_loss = losses.BinaryCrossentropy()(real_output, tf.ones_like(real_output))  # Loss for real images\n",
    "    fake_loss = losses.BinaryCrossentropy()(fake_output, tf.zeros_like(fake_output))  # Loss for fake images\n",
    "    return real_loss + fake_loss\n"
   ]
  },
  {
   "cell_type": "code",
   "execution_count": null,
   "metadata": {},
   "outputs": [
    {
     "ename": "",
     "evalue": "",
     "output_type": "error",
     "traceback": [
      "\u001b[1;31mFailed to start the Kernel. \n",
      "\u001b[1;31mUnable to start Kernel 'Python 3.10.12' due to a connection timeout. \n",
      "\u001b[1;31mView Jupyter <a href='command:jupyter.viewOutput'>log</a> for further details."
     ]
    }
   ],
   "source": [
    "# Define the generator model\n",
    "def generator_model():\n",
    "    inputs = layers.Input(shape=(height, width, channels))\n",
    "    x = layers.Conv2D(64, kernel_size=3, strides=1, padding='same', activation='relu')(inputs)\n",
    "    # Add more convolutional layers\n",
    "    outputs = layers.Conv2D(channels, kernel_size=3, strides=1, padding='same', activation='tanh')(x)\n",
    "    return Model(inputs, outputs)\n",
    "\n",
    "# Define the discriminator model\n",
    "def discriminator_model():\n",
    "    inputs = layers.Input(shape=(height, width, channels))\n",
    "    x = layers.Conv2D(64, kernel_size=3, strides=1, padding='same', activation='relu')(inputs)\n",
    "    # Add more convolutional layers\n",
    "    outputs = layers.Conv2D(1, kernel_size=3, strides=1, padding='same', activation='sigmoid')(x)\n",
    "    return Model(inputs, outputs)\n",
    "\n",
    "# Define the generator loss\n",
    "def generator_loss(fake_output, target_output, generated_output):\n",
    "    gen_loss = losses.BinaryCrossentropy()(fake_output, tf.ones_like(fake_output))  # Adversarial loss\n",
    "    content_loss = losses.MeanAbsoluteError()(target_output, generated_output)  # Content loss\n",
    "    return gen_loss + content_loss\n",
    "\n",
    "# Define the discriminator loss\n",
    "def discriminator_loss(real_output, fake_output):\n",
    "    real_loss = losses.BinaryCrossentropy()(real_output, tf.ones_like(real_output))  # Loss for real images\n",
    "    fake_loss = losses.BinaryCrossentropy()(fake_output, tf.zeros_like(fake_output))  # Loss for fake images\n",
    "    return real_loss + fake_loss\n",
    "\n",
    "# Define the training step\n",
    "@tf.function\n",
    "def train_step(input_image_real, input_image_fake):\n",
    "    with tf.GradientTape() as gen_tape, tf.GradientTape() as disc_tape:\n",
    "        generated_image_fake = generator(input_image_fake, training=True)\n",
    "\n",
    "        real_output = discriminator(input_image_real, training=True)\n",
    "        fake_output = discriminator(generated_image_fake, training=True)\n",
    "\n",
    "        gen_loss = generator_loss(fake_output, input_image_real, generated_image_fake)\n",
    "        disc_loss = discriminator_loss(real_output, fake_output)\n",
    "\n",
    "    gradients_of_generator = gen_tape.gradient(gen_loss, generator.trainable_variables)\n",
    "    gradients_of_discriminator = disc_tape.gradient(disc_loss, discriminator.trainable_variables)\n",
    "\n",
    "    generator_optimizer.apply_gradients(zip(gradients_of_generator, generator.trainable_variables))\n",
    "    discriminator_optimizer.apply_gradients(zip(gradients_of_discriminator, discriminator.trainable_variables))\n",
    "\n",
    "# Define hyperparameters\n",
    "height, width, channels = 64, 64, 3  # Dimensions of input images\n",
    "epochs = 1000\n",
    "learning_rate = 0.0002\n",
    "\n",
    "# Load the two images\n",
    "image_path_good_lighting = 'good_lighting.jpg'\n",
    "image_path_bad_lighting = 'bad_lighting.jpg'\n",
    "image_good_lighting = tf.expand_dims(tf.image.decode_image(tf.io.read_file(image_path_good_lighting)), axis=0)\n",
    "image_bad_lighting = tf.expand_dims(tf.image.decode_image(tf.io.read_file(image_path_bad_lighting)), axis=0)\n",
    "\n",
    "# Resize images to the desired dimensions\n",
    "target_height, target_width = 64, 64\n",
    "image_good_lighting = tf.image.resize(image_good_lighting, (target_height, target_width))\n",
    "image_bad_lighting = tf.image.resize(image_bad_lighting, (target_height, target_width))\n",
    "\n",
    "# Normalize pixel values to range [-1, 1]\n",
    "image_good_lighting = (tf.cast(image_good_lighting, tf.float32) / 127.5) - 1.0\n",
    "image_bad_lighting = (tf.cast(image_bad_lighting, tf.float32) / 127.5) - 1.0\n",
    "\n",
    "# Create generator and discriminator models\n",
    "generator = generator_model()\n",
    "discriminator = discriminator_model()\n",
    "\n",
    "# Define optimizers\n",
    "generator_optimizer = optimizers.Adam(learning_rate)\n",
    "discriminator_optimizer = optimizers.Adam(learning_rate)\n",
    "\n",
    "# Training loop\n",
    "for epoch in range(epochs):\n",
    "    train_step(image_good_lighting, image_bad_lighting)\n",
    "    \n",
    "    # Display training progress\n",
    "    if epoch % 10 == 0:\n",
    "        print(f'Epoch {epoch}/{epochs}')\n",
    "\n",
    "# Generate an improved image\n",
    "generated_image_fake = generator(image_bad_lighting, training=False)\n",
    "\n",
    "# Visualize the result and evaluate the model as needed\n",
    "\n"
   ]
  },
  {
   "cell_type": "code",
   "execution_count": null,
   "metadata": {},
   "outputs": [
    {
     "ename": "",
     "evalue": "",
     "output_type": "error",
     "traceback": [
      "\u001b[1;31mFailed to start the Kernel. \n",
      "\u001b[1;31mUnable to start Kernel 'Python 3.10.12' due to a connection timeout. \n",
      "\u001b[1;31mView Jupyter <a href='command:jupyter.viewOutput'>log</a> for further details."
     ]
    }
   ],
   "source": [
    "import matplotlib.pyplot as plt\n",
    "# Generate an improved image\n",
    "generated_image_fake = generator(image_bad_lighting, training=False)\n",
    "\n",
    "# Convert the generated image from [-1, 1] range to [0, 1] range for display\n",
    "generated_image_fake = (generated_image_fake + 1.0) / 2.0\n",
    "\n",
    "# Display the generated image\n",
    "plt.imshow(generated_image_fake[0])\n",
    "plt.axis('off')\n",
    "plt.show()"
   ]
  },
  {
   "cell_type": "code",
   "execution_count": null,
   "metadata": {},
   "outputs": [
    {
     "ename": "",
     "evalue": "",
     "output_type": "error",
     "traceback": [
      "\u001b[1;31mFailed to start the Kernel. \n",
      "\u001b[1;31mUnable to start Kernel 'Python 3.10.12' due to a connection timeout. \n",
      "\u001b[1;31mView Jupyter <a href='command:jupyter.viewOutput'>log</a> for further details."
     ]
    }
   ],
   "source": [
    "def load_images(image_path_good_lighting, image_path_bad_lighting, target_height, target_width):\n",
    "    # Load and preprocess the real image (good lighting)\n",
    "    image_good_lighting = Image.open(image_path_good_lighting).resize((target_width, target_height))\n",
    "    image_good_lighting = np.array(image_good_lighting) / 255.0  # Normalize pixel values to [0, 1]\n",
    "\n",
    "    # Load and preprocess the fake image (bad lighting)\n",
    "    image_bad_lighting = Image.open(image_path_bad_lighting).resize((target_width, target_height))\n",
    "    image_bad_lighting = np.array(image_bad_lighting) / 255.0  # Normalize pixel values to [0, 1]\n",
    "\n",
    "    return image_good_lighting, image_bad_lighting\n",
    "\n"
   ]
  },
  {
   "cell_type": "code",
   "execution_count": null,
   "metadata": {},
   "outputs": [
    {
     "ename": "",
     "evalue": "",
     "output_type": "error",
     "traceback": [
      "\u001b[1;31mFailed to start the Kernel. \n",
      "\u001b[1;31mUnable to start Kernel 'Python 3.10.12' due to a connection timeout. \n",
      "\u001b[1;31mView Jupyter <a href='command:jupyter.viewOutput'>log</a> for further details."
     ]
    }
   ],
   "source": [
    "image_path_good_lighting = 'good_lighting.jpg'\n",
    "image_path_bad_lighting = 'bad_lighting.jpg'\n",
    "target_height = 64\n",
    "target_width = 64\n",
    "real_image, fake_image = load_images(image_path_good_lighting, image_path_bad_lighting, target_height, target_width)\n"
   ]
  },
  {
   "cell_type": "code",
   "execution_count": null,
   "metadata": {},
   "outputs": [
    {
     "ename": "",
     "evalue": "",
     "output_type": "error",
     "traceback": [
      "\u001b[1;31mFailed to start the Kernel. \n",
      "\u001b[1;31mUnable to start Kernel 'Python 3.10.12' due to a connection timeout. \n",
      "\u001b[1;31mView Jupyter <a href='command:jupyter.viewOutput'>log</a> for further details."
     ]
    }
   ],
   "source": [
    "# Load and preprocess the dataset\n",
    "# Assume you have a function load_dataset() to load the dataset and preprocess it\n",
    "train_dataset = dataset\n",
    "# Shuffle and batch the dataset\n",
    "train_dataset = train_dataset.shuffle(buffer_size).batch(batch_size)\n",
    "\n",
    "# Define hyperparameters\n",
    "height, width, channels = 64, 64, 3  # Dimensions of input images\n",
    "epochs = 100\n",
    "batch_size = 32\n",
    "learning_rate = 0.0002\n",
    "buffer_size = 1000\n"
   ]
  },
  {
   "cell_type": "code",
   "execution_count": null,
   "metadata": {},
   "outputs": [
    {
     "ename": "",
     "evalue": "",
     "output_type": "error",
     "traceback": [
      "\u001b[1;31mFailed to start the Kernel. \n",
      "\u001b[1;31mUnable to start Kernel 'Python 3.10.12' due to a connection timeout. \n",
      "\u001b[1;31mView Jupyter <a href='command:jupyter.viewOutput'>log</a> for further details."
     ]
    }
   ],
   "source": [
    "\n",
    "# Create generator and discriminator models\n",
    "generator = generator_model()\n",
    "discriminator = discriminator_model()\n",
    "\n",
    "# Define optimizers\n",
    "generator_optimizer = optimizers.Adam(learning_rate)\n",
    "discriminator_optimizer = optimizers.Adam(learning_rate)\n"
   ]
  },
  {
   "cell_type": "code",
   "execution_count": null,
   "metadata": {},
   "outputs": [
    {
     "ename": "",
     "evalue": "",
     "output_type": "error",
     "traceback": [
      "\u001b[1;31mFailed to start the Kernel. \n",
      "\u001b[1;31mUnable to start Kernel 'Python 3.10.12' due to a connection timeout. \n",
      "\u001b[1;31mView Jupyter <a href='command:jupyter.viewOutput'>log</a> for further details."
     ]
    }
   ],
   "source": [
    "# Training loop\n",
    "for epoch in range(epochs):\n",
    "    for batch in train_dataset:\n",
    "        input_images, target_images = batch\n",
    "        train_step(input_images, target_images)\n",
    "    \n",
    "    # Display training progress\n",
    "    if epoch % 10 == 0:\n",
    "        print(f'Epoch {epoch}/{epochs}, Generator Loss: {gen_loss.numpy()}, Discriminator Loss: {disc_loss.numpy()}')\n"
   ]
  },
  {
   "cell_type": "code",
   "execution_count": null,
   "metadata": {},
   "outputs": [
    {
     "ename": "",
     "evalue": "",
     "output_type": "error",
     "traceback": [
      "\u001b[1;31mFailed to start the Kernel. \n",
      "\u001b[1;31mUnable to start Kernel 'Python 3.10.12' due to a connection timeout. \n",
      "\u001b[1;31mView Jupyter <a href='command:jupyter.viewOutput'>log</a> for further details."
     ]
    }
   ],
   "source": [
    "# Generate images with improved lighting\n",
    "# Assume you have a function generate_images() to generate images with bad lighting\n",
    "input_images = generate_images()\n",
    "improved_images = generator(input_images, training=False)\n"
   ]
  }
 ],
 "metadata": {
  "kernelspec": {
   "display_name": "py310",
   "language": "python",
   "name": "python3"
  },
  "language_info": {
   "codemirror_mode": {
    "name": "ipython",
    "version": 3
   },
   "file_extension": ".py",
   "mimetype": "text/x-python",
   "name": "python",
   "nbconvert_exporter": "python",
   "pygments_lexer": "ipython3",
   "version": "3.undefined.undefined"
  }
 },
 "nbformat": 4,
 "nbformat_minor": 2
}
