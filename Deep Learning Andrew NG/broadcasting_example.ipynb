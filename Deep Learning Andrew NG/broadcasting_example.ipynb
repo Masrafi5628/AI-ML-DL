{
 "cells": [
  {
   "cell_type": "code",
   "execution_count": 13,
   "metadata": {},
   "outputs": [
    {
     "name": "stdout",
     "output_type": "stream",
     "text": [
      "[[20.   0.   4.  86. ]\n",
      " [50.  21.   0.3  8. ]\n",
      " [30.  35.  90.  21. ]]\n"
     ]
    }
   ],
   "source": [
    "import numpy as np\n",
    "A = np.array([[20,0,4,86],\n",
    "              [50,21,0.3,8],\n",
    "              [30,35,90,21]\n",
    "              ])\n",
    "print(A)"
   ]
  },
  {
   "cell_type": "code",
   "execution_count": 15,
   "metadata": {},
   "outputs": [
    {
     "name": "stdout",
     "output_type": "stream",
     "text": [
      "[100.   56.   94.3 115. ]\n"
     ]
    }
   ],
   "source": [
    "cal = A.sum(axis=0)\n",
    "\n",
    "print(cal)"
   ]
  },
  {
   "cell_type": "code",
   "execution_count": 17,
   "metadata": {},
   "outputs": [
    {
     "name": "stdout",
     "output_type": "stream",
     "text": [
      "[[20.          0.          4.24178155 74.7826087 ]\n",
      " [50.         37.5         0.31813362  6.95652174]\n",
      " [30.         62.5        95.44008484 18.26086957]]\n"
     ]
    }
   ],
   "source": [
    "percentage = 100*A/cal\n",
    "print(percentage)\n"
   ]
  },
  {
   "cell_type": "code",
   "execution_count": 26,
   "metadata": {},
   "outputs": [
    {
     "name": "stdout",
     "output_type": "stream",
     "text": [
      "[[4 5 6]]\n",
      "[[4]\n",
      " [5]\n",
      " [6]]\n",
      "[[32]]\n",
      "[[5 6 7]\n",
      " [6 7 8]\n",
      " [7 8 9]]\n"
     ]
    }
   ],
   "source": [
    "a= np.array([[1,2,3]])\n",
    "b= np.array([[4,5,6]])\n",
    "print(b)\n",
    "print(b.T)\n",
    "print(np.dot(a,b.T))\n",
    "print(a+b.T)"
   ]
  },
  {
   "cell_type": "code",
   "execution_count": 32,
   "metadata": {},
   "outputs": [
    {
     "name": "stdout",
     "output_type": "stream",
     "text": [
      "[[1 2 3]]\n",
      "[[1 2 3]\n",
      " [1 1 1]\n",
      " [2 2 2]]\n",
      "[[1 4 9]\n",
      " [1 2 3]\n",
      " [2 4 6]]\n",
      "[[1 4 9]\n",
      " [1 2 3]\n",
      " [2 4 6]]\n",
      "[[ 9 10 11]]\n"
     ]
    }
   ],
   "source": [
    "#r = np.random.randn(5) # rank 1 array don't use these\n",
    "# you can reshape a.reshape(5,1)\n",
    "r = np.random.randn(5,1) #use this or (1,5)\n",
    "\n",
    "\n",
    "# a=np.random.rand(1,3)\n",
    "# b=np.random.rand(3,3)\n",
    "a=np.array([[1,2,3]])\n",
    "b=np.array([[1,2,3],[1,1,1],[2,2,2]])\n",
    "print(a)\n",
    "print(b)\n",
    "print(b*a)\n",
    "print(a*b)\n",
    "print(np.dot(a,b))"
   ]
  }
 ],
 "metadata": {
  "kernelspec": {
   "display_name": "Python 3",
   "language": "python",
   "name": "python3"
  },
  "language_info": {
   "codemirror_mode": {
    "name": "ipython",
    "version": 3
   },
   "file_extension": ".py",
   "mimetype": "text/x-python",
   "name": "python",
   "nbconvert_exporter": "python",
   "pygments_lexer": "ipython3",
   "version": "3.10.12"
  }
 },
 "nbformat": 4,
 "nbformat_minor": 2
}
